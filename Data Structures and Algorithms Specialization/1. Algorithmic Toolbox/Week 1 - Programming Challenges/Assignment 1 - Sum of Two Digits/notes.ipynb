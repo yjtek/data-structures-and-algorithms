{
 "cells": [
  {
   "attachments": {},
   "cell_type": "markdown",
   "metadata": {},
   "source": [
    "- In languages outside of python, be wary of float/integer overflows when dealing with large numbers\n",
    "- Not enough to give the right answer, but must compute within a reasonable amount of time"
   ]
  }
 ],
 "metadata": {
  "language_info": {
   "name": "python"
  },
  "orig_nbformat": 4
 },
 "nbformat": 4,
 "nbformat_minor": 2
}
